{
 "cells": [
  {
   "cell_type": "code",
   "execution_count": 1,
   "id": "0ad8f5ee",
   "metadata": {},
   "outputs": [],
   "source": [
    "# Creating spark session\n",
    "from pyspark.sql import SparkSession\n",
    "spark = SparkSession.builder.appName('lr_example').getOrCreate()"
   ]
  },
  {
   "cell_type": "code",
   "execution_count": 2,
   "id": "edd2de1e",
   "metadata": {},
   "outputs": [],
   "source": [
    "from pyspark.ml.regression import LinearRegression"
   ]
  },
  {
   "cell_type": "code",
   "execution_count": 3,
   "id": "4bd2a9b5",
   "metadata": {},
   "outputs": [],
   "source": [
    "data = spark.read.csv ('Ecommerce_Customers.csv' , inferSchema=True , header = True)"
   ]
  },
  {
   "cell_type": "code",
   "execution_count": 4,
   "id": "e80712ba",
   "metadata": {},
   "outputs": [
    {
     "name": "stdout",
     "output_type": "stream",
     "text": [
      "root\n",
      " |-- Email: string (nullable = true)\n",
      " |-- Address: string (nullable = true)\n",
      " |-- Avatar: string (nullable = true)\n",
      " |-- Avg Session Length: double (nullable = true)\n",
      " |-- Time on App: double (nullable = true)\n",
      " |-- Time on Website: double (nullable = true)\n",
      " |-- Length of Membership: double (nullable = true)\n",
      " |-- Yearly Amount Spent: double (nullable = true)\n",
      "\n"
     ]
    }
   ],
   "source": [
    "data.printSchema()"
   ]
  },
  {
   "cell_type": "code",
   "execution_count": 5,
   "id": "2bbe7f57",
   "metadata": {},
   "outputs": [
    {
     "data": {
      "text/plain": [
       "[Row(Email='mstephenson@fernandez.com', Address='835 Frank TunnelWrightmouth, MI 82180-9605', Avatar='Violet', Avg Session Length=34.49726772511229, Time on App=12.65565114916675, Time on Website=39.57766801952616, Length of Membership=4.0826206329529615, Yearly Amount Spent=587.9510539684005)]"
      ]
     },
     "execution_count": 5,
     "metadata": {},
     "output_type": "execute_result"
    }
   ],
   "source": [
    "data.head(1)"
   ]
  },
  {
   "cell_type": "code",
   "execution_count": 6,
   "id": "46a3852c",
   "metadata": {},
   "outputs": [],
   "source": [
    "# Importing vectirs from linear algebra\n",
    "from pyspark.ml.linalg import Vectors\n",
    "# Importing vector assembler in ml.feature\n",
    "from pyspark.ml.feature import VectorAssembler"
   ]
  },
  {
   "cell_type": "code",
   "execution_count": 7,
   "id": "20ea1b27",
   "metadata": {},
   "outputs": [
    {
     "data": {
      "text/plain": [
       "['Email',\n",
       " 'Address',\n",
       " 'Avatar',\n",
       " 'Avg Session Length',\n",
       " 'Time on App',\n",
       " 'Time on Website',\n",
       " 'Length of Membership',\n",
       " 'Yearly Amount Spent']"
      ]
     },
     "execution_count": 7,
     "metadata": {},
     "output_type": "execute_result"
    }
   ],
   "source": [
    "data.columns"
   ]
  },
  {
   "cell_type": "code",
   "execution_count": 8,
   "id": "8a468078",
   "metadata": {},
   "outputs": [],
   "source": [
    "# To convert all the features into a feature vector\n",
    "assembler = VectorAssembler(inputCols=['Avg Session Length',\n",
    " 'Time on App',\n",
    " 'Time on Website',\n",
    " 'Length of Membership'],outputCol='features')"
   ]
  },
  {
   "cell_type": "code",
   "execution_count": 9,
   "id": "c5fadb8b",
   "metadata": {},
   "outputs": [
    {
     "data": {
      "text/plain": [
       "[Row(Email='mstephenson@fernandez.com', Address='835 Frank TunnelWrightmouth, MI 82180-9605', Avatar='Violet', Avg Session Length=34.49726772511229, Time on App=12.65565114916675, Time on Website=39.57766801952616, Length of Membership=4.0826206329529615, Yearly Amount Spent=587.9510539684005, features=DenseVector([34.4973, 12.6557, 39.5777, 4.0826]))]"
      ]
     },
     "execution_count": 9,
     "metadata": {},
     "output_type": "execute_result"
    }
   ],
   "source": [
    "# Transforming data into the assembler contains selected features\n",
    "output = assembler.transform(data)\n",
    "output.head(1)"
   ]
  },
  {
   "cell_type": "code",
   "execution_count": 10,
   "id": "68efa5da",
   "metadata": {},
   "outputs": [
    {
     "name": "stdout",
     "output_type": "stream",
     "text": [
      "+--------------------+-------------------+\n",
      "|            features|Yearly Amount Spent|\n",
      "+--------------------+-------------------+\n",
      "|[34.4972677251122...|  587.9510539684005|\n",
      "|[31.9262720263601...|  392.2049334443264|\n",
      "|[33.0009147556426...| 487.54750486747207|\n",
      "|[34.3055566297555...|  581.8523440352177|\n",
      "|[33.3306725236463...|  599.4060920457634|\n",
      "|[33.8710378793419...|   637.102447915074|\n",
      "|[32.0215955013870...|  521.5721747578274|\n",
      "|[32.7391429383803...|  549.9041461052942|\n",
      "|[33.9877728956856...|  570.2004089636196|\n",
      "|[31.9365486184489...|  427.1993848953282|\n",
      "|[33.9925727749537...|  492.6060127179966|\n",
      "|[33.8793608248049...|  522.3374046069357|\n",
      "|[29.5324289670579...|  408.6403510726275|\n",
      "|[33.1903340437226...|  573.4158673313865|\n",
      "|[32.3879758531538...|  470.4527333009554|\n",
      "|[30.7377203726281...|  461.7807421962299|\n",
      "|[32.1253868972878...| 457.84769594494855|\n",
      "|[32.3388993230671...| 407.70454754954415|\n",
      "|[32.1878120459321...|  452.3156754800354|\n",
      "|[32.6178560628234...|   605.061038804892|\n",
      "+--------------------+-------------------+\n",
      "only showing top 20 rows\n",
      "\n"
     ]
    }
   ],
   "source": [
    "# Creating actual dataset\n",
    "final_data = output.select('features','Yearly Amount Spent')\n",
    "final_data.show()"
   ]
  },
  {
   "cell_type": "code",
   "execution_count": 11,
   "id": "9825da91",
   "metadata": {},
   "outputs": [
    {
     "name": "stdout",
     "output_type": "stream",
     "text": [
      "+-------+-------------------+\n",
      "|summary|Yearly Amount Spent|\n",
      "+-------+-------------------+\n",
      "|  count|                369|\n",
      "|   mean|   497.686553907393|\n",
      "| stddev|  78.40129127354486|\n",
      "|    min|   266.086340948469|\n",
      "|    max|  765.5184619388373|\n",
      "+-------+-------------------+\n",
      "\n"
     ]
    }
   ],
   "source": [
    "# Splitting training and test data set\n",
    "train_data , test_data = final_data.randomSplit([0.7,0.3])\n",
    "# Printing description with count of the training data\n",
    "train_data.describe().show()"
   ]
  },
  {
   "cell_type": "code",
   "execution_count": 12,
   "id": "43d27d73",
   "metadata": {},
   "outputs": [],
   "source": [
    "# Giving col names and framing the linear regression\n",
    "lr = LinearRegression(labelCol='Yearly Amount Spent')\n",
    "# Creating training model\n",
    "lr_model = lr.fit(train_data)"
   ]
  },
  {
   "cell_type": "code",
   "execution_count": 13,
   "id": "2294bc56",
   "metadata": {},
   "outputs": [
    {
     "name": "stderr",
     "output_type": "stream",
     "text": [
      "C:\\Users\\gokulnath.kandasamy\\Anaconda3\\lib\\site-packages\\pyspark\\sql\\context.py:125: FutureWarning: Deprecated in 3.0.0. Use SparkSession.builder.getOrCreate() instead.\n",
      "  warnings.warn(\n"
     ]
    },
    {
     "name": "stdout",
     "output_type": "stream",
     "text": [
      "+-------------------+\n",
      "|          residuals|\n",
      "+-------------------+\n",
      "| -3.544484006949176|\n",
      "| 3.9718867268524036|\n",
      "| -5.715765567606752|\n",
      "| -7.153946754556046|\n",
      "|-3.3445020685373947|\n",
      "|-3.7155348005528595|\n",
      "| -5.968088255866405|\n",
      "| -5.484373405003112|\n",
      "| 3.3855512308710445|\n",
      "|-17.071176826019155|\n",
      "|  18.30763334865037|\n",
      "| 17.480604816459675|\n",
      "| -4.466119087120262|\n",
      "| -4.756442718422079|\n",
      "|-2.9891720580642414|\n",
      "|-17.215098290474828|\n",
      "| -16.96635689804458|\n",
      "|-13.720700755368853|\n",
      "|  5.202543617293713|\n",
      "|  4.918753554032378|\n",
      "+-------------------+\n",
      "only showing top 20 rows\n",
      "\n"
     ]
    }
   ],
   "source": [
    "# Evaluating the model\n",
    "test_results = lr_model.evaluate (test_data)\n",
    "test_results.residuals.show()"
   ]
  },
  {
   "cell_type": "code",
   "execution_count": 14,
   "id": "569b564d",
   "metadata": {},
   "outputs": [
    {
     "data": {
      "text/plain": [
       "9.410567193817228"
      ]
     },
     "execution_count": 14,
     "metadata": {},
     "output_type": "execute_result"
    }
   ],
   "source": [
    "test_results.rootMeanSquaredError"
   ]
  },
  {
   "cell_type": "code",
   "execution_count": 16,
   "id": "a37688f7",
   "metadata": {},
   "outputs": [
    {
     "name": "stdout",
     "output_type": "stream",
     "text": [
      "+--------------------+\n",
      "|            features|\n",
      "+--------------------+\n",
      "|[30.8794843441274...|\n",
      "|[31.0472221394875...|\n",
      "|[31.0613251567161...|\n",
      "|[31.1280900496166...|\n",
      "|[31.2681042107507...|\n",
      "|[31.4252268808548...|\n",
      "|[31.5147378578019...|\n",
      "|[31.5257524169682...|\n",
      "|[31.5316044825729...|\n",
      "|[31.5702008293202...|\n",
      "|[31.6005122003032...|\n",
      "|[31.6098395733896...|\n",
      "|[31.6253601348306...|\n",
      "|[31.7656188210424...|\n",
      "|[31.8124825597242...|\n",
      "|[31.8164283341993...|\n",
      "|[31.9048571310136...|\n",
      "|[31.9365486184489...|\n",
      "|[31.9764800614612...|\n",
      "|[32.0215955013870...|\n",
      "+--------------------+\n",
      "only showing top 20 rows\n",
      "\n"
     ]
    }
   ],
   "source": [
    "# Preparing data for the prediction\n",
    "unlabeled_data = test_data.select('features')\n",
    "unlabeled_data.show()"
   ]
  },
  {
   "cell_type": "code",
   "execution_count": 17,
   "id": "f456d02c",
   "metadata": {
    "scrolled": true
   },
   "outputs": [
    {
     "name": "stdout",
     "output_type": "stream",
     "text": [
      "+--------------------+------------------+\n",
      "|            features|        prediction|\n",
      "+--------------------+------------------+\n",
      "|[30.8794843441274...|493.75108399180385|\n",
      "|[31.0472221394875...|  388.525512462169|\n",
      "|[31.0613251567161...|493.27122362550836|\n",
      "|[31.1280900496166...| 564.4066335016107|\n",
      "|[31.2681042107507...| 426.8150352423613|\n",
      "|[31.4252268808548...| 534.4822534553148|\n",
      "|[31.5147378578019...| 495.7805762523278|\n",
      "|[31.5257524169682...|  449.450000214885|\n",
      "|[31.5316044825729...| 433.1300544984915|\n",
      "|[31.5702008293202...|  563.016668967424|\n",
      "|[31.6005122003032...|460.86521814244657|\n",
      "|[31.6098395733896...| 427.0649448346485|\n",
      "|[31.6253601348306...|380.80301984404446|\n",
      "|[31.7656188210424...| 501.3105243540292|\n",
      "|[31.8124825597242...|395.79951704186146|\n",
      "|[31.8164283341993...| 518.3375897941312|\n",
      "|[31.9048571310136...| 490.9162143208607|\n",
      "|[31.9365486184489...|440.92008565069705|\n",
      "|[31.9764800614612...| 325.3919024168065|\n",
      "|[32.0215955013870...|  516.653421203795|\n",
      "+--------------------+------------------+\n",
      "only showing top 20 rows\n",
      "\n"
     ]
    }
   ],
   "source": [
    "# Prediction using unlabeled data\n",
    "predictions = lr_model.transform(unlabeled_data)\n",
    "predictions.show()"
   ]
  },
  {
   "cell_type": "code",
   "execution_count": null,
   "id": "9fc567b2",
   "metadata": {},
   "outputs": [],
   "source": []
  }
 ],
 "metadata": {
  "kernelspec": {
   "display_name": "Python 3",
   "language": "python",
   "name": "python3"
  },
  "language_info": {
   "codemirror_mode": {
    "name": "ipython",
    "version": 3
   },
   "file_extension": ".py",
   "mimetype": "text/x-python",
   "name": "python",
   "nbconvert_exporter": "python",
   "pygments_lexer": "ipython3",
   "version": "3.8.8"
  }
 },
 "nbformat": 4,
 "nbformat_minor": 5
}
