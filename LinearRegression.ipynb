{
 "cells": [
  {
   "cell_type": "code",
   "execution_count": 1,
   "id": "7a6b2a66",
   "metadata": {},
   "outputs": [],
   "source": [
    "from pyspark.sql import SparkSession"
   ]
  },
  {
   "cell_type": "code",
   "execution_count": 2,
   "id": "873afab1",
   "metadata": {},
   "outputs": [],
   "source": [
    "spark = SparkSession.builder.appName(\"lrex\").getOrCreate()"
   ]
  },
  {
   "cell_type": "code",
   "execution_count": 3,
   "id": "d7564aa2",
   "metadata": {},
   "outputs": [],
   "source": [
    "from pyspark.ml.regression import LinearRegression"
   ]
  },
  {
   "cell_type": "code",
   "execution_count": 4,
   "id": "dafbe575",
   "metadata": {},
   "outputs": [],
   "source": [
    "training = spark.read.format('libsvm').load('sample_linear_regression_data.txt')"
   ]
  },
  {
   "cell_type": "code",
   "execution_count": 5,
   "id": "3abb24d9",
   "metadata": {},
   "outputs": [
    {
     "name": "stdout",
     "output_type": "stream",
     "text": [
      "+-------------------+--------------------+\n",
      "|              label|            features|\n",
      "+-------------------+--------------------+\n",
      "| -9.490009878824548|(10,[0,1,2,3,4,5,...|\n",
      "| 0.2577820163584905|(10,[0,1,2,3,4,5,...|\n",
      "| -4.438869807456516|(10,[0,1,2,3,4,5,...|\n",
      "|-19.782762789614537|(10,[0,1,2,3,4,5,...|\n",
      "| -7.966593841555266|(10,[0,1,2,3,4,5,...|\n",
      "| -7.896274316726144|(10,[0,1,2,3,4,5,...|\n",
      "| -8.464803554195287|(10,[0,1,2,3,4,5,...|\n",
      "| 2.1214592666251364|(10,[0,1,2,3,4,5,...|\n",
      "| 1.0720117616524107|(10,[0,1,2,3,4,5,...|\n",
      "|-13.772441561702871|(10,[0,1,2,3,4,5,...|\n",
      "| -5.082010756207233|(10,[0,1,2,3,4,5,...|\n",
      "|  7.887786536531237|(10,[0,1,2,3,4,5,...|\n",
      "| 14.323146365332388|(10,[0,1,2,3,4,5,...|\n",
      "|-20.057482615789212|(10,[0,1,2,3,4,5,...|\n",
      "|-0.8995693247765151|(10,[0,1,2,3,4,5,...|\n",
      "| -19.16829262296376|(10,[0,1,2,3,4,5,...|\n",
      "|  5.601801561245534|(10,[0,1,2,3,4,5,...|\n",
      "|-3.2256352187273354|(10,[0,1,2,3,4,5,...|\n",
      "| 1.5299675726687754|(10,[0,1,2,3,4,5,...|\n",
      "| -0.250102447941961|(10,[0,1,2,3,4,5,...|\n",
      "+-------------------+--------------------+\n",
      "only showing top 20 rows\n",
      "\n"
     ]
    }
   ],
   "source": [
    "training.show()"
   ]
  },
  {
   "cell_type": "code",
   "execution_count": 6,
   "id": "85222c4a",
   "metadata": {},
   "outputs": [],
   "source": [
    "# Creating instance for linear regression model\n",
    "lr = LinearRegression (featuresCol = 'features',labelCol='label', predictionCol='prediction')"
   ]
  },
  {
   "cell_type": "code",
   "execution_count": 7,
   "id": "b9ace43e",
   "metadata": {},
   "outputs": [],
   "source": [
    "# Training the model\n",
    "lrModel = lr.fit(training)"
   ]
  },
  {
   "cell_type": "code",
   "execution_count": 8,
   "id": "15c71858",
   "metadata": {},
   "outputs": [
    {
     "data": {
      "text/plain": [
       "DenseVector([0.0073, 0.8314, -0.8095, 2.4412, 0.5192, 1.1535, -0.2989, -0.5129, -0.6197, 0.6956])"
      ]
     },
     "execution_count": 8,
     "metadata": {},
     "output_type": "execute_result"
    }
   ],
   "source": [
    "lrModel.coefficients"
   ]
  },
  {
   "cell_type": "code",
   "execution_count": 9,
   "id": "ffb855b7",
   "metadata": {},
   "outputs": [
    {
     "data": {
      "text/plain": [
       "0.14228558260358093"
      ]
     },
     "execution_count": 9,
     "metadata": {},
     "output_type": "execute_result"
    }
   ],
   "source": [
    "lrModel.intercept"
   ]
  },
  {
   "cell_type": "code",
   "execution_count": 10,
   "id": "ce9719f9",
   "metadata": {},
   "outputs": [],
   "source": [
    "# Finding some values with the use of summary of the model\n",
    "training_summary = lrModel.summary"
   ]
  },
  {
   "cell_type": "code",
   "execution_count": 11,
   "id": "c46b6416",
   "metadata": {},
   "outputs": [
    {
     "data": {
      "text/plain": [
       "0.027839179518600154"
      ]
     },
     "execution_count": 11,
     "metadata": {},
     "output_type": "execute_result"
    }
   ],
   "source": [
    "training_summary.r2"
   ]
  },
  {
   "cell_type": "code",
   "execution_count": 12,
   "id": "6ff23a5d",
   "metadata": {},
   "outputs": [
    {
     "data": {
      "text/plain": [
       "10.16309157133015"
      ]
     },
     "execution_count": 12,
     "metadata": {},
     "output_type": "execute_result"
    }
   ],
   "source": [
    "training_summary.rootMeanSquaredError"
   ]
  },
  {
   "cell_type": "code",
   "execution_count": 14,
   "id": "5fff5510",
   "metadata": {},
   "outputs": [
    {
     "data": {
      "text/plain": [
       "[DataFrame[label: double, features: vector],\n",
       " DataFrame[label: double, features: vector]]"
      ]
     },
     "execution_count": 14,
     "metadata": {},
     "output_type": "execute_result"
    }
   ],
   "source": [
    "# Reading whole data set into the variable \n",
    "all_data = spark.read.format ('libsvm').load('sample_linear_regression_data.txt')\n",
    "# Training and test data split using randomSplit function\n",
    "split_object = all_data.randomSplit([0.7,0.3])\n",
    "split_object"
   ]
  },
  {
   "cell_type": "code",
   "execution_count": 16,
   "id": "0a955658",
   "metadata": {},
   "outputs": [],
   "source": [
    "# Instead of storing in split object we can store the train data and test data seperately\n",
    "train_data , test_data = all_data.randomSplit([0.7,0.3])"
   ]
  },
  {
   "cell_type": "code",
   "execution_count": 19,
   "id": "4b38404c",
   "metadata": {},
   "outputs": [
    {
     "name": "stdout",
     "output_type": "stream",
     "text": [
      "+-------------------+--------------------+\n",
      "|              label|            features|\n",
      "+-------------------+--------------------+\n",
      "|-28.571478869743427|(10,[0,1,2,3,4,5,...|\n",
      "|-26.805483428483072|(10,[0,1,2,3,4,5,...|\n",
      "|-26.736207182601724|(10,[0,1,2,3,4,5,...|\n",
      "|-22.949825936196074|(10,[0,1,2,3,4,5,...|\n",
      "|-22.837460416919342|(10,[0,1,2,3,4,5,...|\n",
      "|-20.212077258958672|(10,[0,1,2,3,4,5,...|\n",
      "|-20.057482615789212|(10,[0,1,2,3,4,5,...|\n",
      "|-19.884560774273424|(10,[0,1,2,3,4,5,...|\n",
      "|-19.872991038068406|(10,[0,1,2,3,4,5,...|\n",
      "| -19.66731861537172|(10,[0,1,2,3,4,5,...|\n",
      "| -19.16829262296376|(10,[0,1,2,3,4,5,...|\n",
      "|-18.845922472898582|(10,[0,1,2,3,4,5,...|\n",
      "| -18.27521356600463|(10,[0,1,2,3,4,5,...|\n",
      "| -17.32672073267595|(10,[0,1,2,3,4,5,...|\n",
      "|-17.065399625876015|(10,[0,1,2,3,4,5,...|\n",
      "|-17.026492264209548|(10,[0,1,2,3,4,5,...|\n",
      "| -16.71909683360509|(10,[0,1,2,3,4,5,...|\n",
      "| -16.26143027545273|(10,[0,1,2,3,4,5,...|\n",
      "|-16.151349351277112|(10,[0,1,2,3,4,5,...|\n",
      "| -16.08565904102149|(10,[0,1,2,3,4,5,...|\n",
      "+-------------------+--------------------+\n",
      "only showing top 20 rows\n",
      "\n",
      "+-------+-------------------+\n",
      "|summary|              label|\n",
      "+-------+-------------------+\n",
      "|  count|                339|\n",
      "|   mean| 0.3590117410590875|\n",
      "| stddev|  10.39279649178076|\n",
      "|    min|-28.571478869743427|\n",
      "|    max|  27.78383192005107|\n",
      "+-------+-------------------+\n",
      "\n"
     ]
    }
   ],
   "source": [
    "train_data.show()\n",
    "train_data.describe().show()"
   ]
  },
  {
   "cell_type": "code",
   "execution_count": 20,
   "id": "b8daaedd",
   "metadata": {},
   "outputs": [],
   "source": [
    "# Creating actual correct model\n",
    "correct_model = lr.fit (train_data)"
   ]
  },
  {
   "cell_type": "code",
   "execution_count": 21,
   "id": "f749a7e5",
   "metadata": {},
   "outputs": [],
   "source": [
    "# Evaluating how the train data fits against the test data\n",
    "test_results = correct_model.evaluate (test_data)"
   ]
  },
  {
   "cell_type": "code",
   "execution_count": 23,
   "id": "2ee73b93",
   "metadata": {},
   "outputs": [
    {
     "name": "stdout",
     "output_type": "stream",
     "text": [
      "+-------------------+\n",
      "|          residuals|\n",
      "+-------------------+\n",
      "| -29.38672339055108|\n",
      "| -22.21863026166891|\n",
      "|-23.272616705953006|\n",
      "|-21.707687169171006|\n",
      "|-20.401138148973565|\n",
      "| -18.67736661368331|\n",
      "|-19.788286908590038|\n",
      "| -15.26948950040167|\n",
      "| -20.33174119197154|\n",
      "|-18.246160439454723|\n",
      "|  -17.4968783407356|\n",
      "| -16.72296543974181|\n",
      "|  -12.5656083400093|\n",
      "|-11.349033368473453|\n",
      "|-11.164520482260682|\n",
      "| -12.25561997132449|\n",
      "|-14.640124802125214|\n",
      "| -9.111047084014123|\n",
      "|-13.733166094665917|\n",
      "|-13.819511945104468|\n",
      "+-------------------+\n",
      "only showing top 20 rows\n",
      "\n"
     ]
    }
   ],
   "source": [
    "# Using inbuilt functions with the evaluated train test data\n",
    "test_results.residuals.show()"
   ]
  },
  {
   "cell_type": "code",
   "execution_count": 25,
   "id": "0fd3dedb",
   "metadata": {},
   "outputs": [
    {
     "name": "stdout",
     "output_type": "stream",
     "text": [
      "+--------------------+\n",
      "|            features|\n",
      "+--------------------+\n",
      "|(10,[0,1,2,3,4,5,...|\n",
      "|(10,[0,1,2,3,4,5,...|\n",
      "|(10,[0,1,2,3,4,5,...|\n",
      "|(10,[0,1,2,3,4,5,...|\n",
      "|(10,[0,1,2,3,4,5,...|\n",
      "|(10,[0,1,2,3,4,5,...|\n",
      "|(10,[0,1,2,3,4,5,...|\n",
      "|(10,[0,1,2,3,4,5,...|\n",
      "|(10,[0,1,2,3,4,5,...|\n",
      "|(10,[0,1,2,3,4,5,...|\n",
      "|(10,[0,1,2,3,4,5,...|\n",
      "|(10,[0,1,2,3,4,5,...|\n",
      "|(10,[0,1,2,3,4,5,...|\n",
      "|(10,[0,1,2,3,4,5,...|\n",
      "|(10,[0,1,2,3,4,5,...|\n",
      "|(10,[0,1,2,3,4,5,...|\n",
      "|(10,[0,1,2,3,4,5,...|\n",
      "|(10,[0,1,2,3,4,5,...|\n",
      "|(10,[0,1,2,3,4,5,...|\n",
      "|(10,[0,1,2,3,4,5,...|\n",
      "+--------------------+\n",
      "only showing top 20 rows\n",
      "\n"
     ]
    }
   ],
   "source": [
    "# Creating the unlabelled data for the prediction using prediction function\n",
    "unlabeled_data = test_data.select('features')\n",
    "unlabeled_data.show()"
   ]
  },
  {
   "cell_type": "code",
   "execution_count": 27,
   "id": "033dc8ea",
   "metadata": {},
   "outputs": [
    {
     "name": "stdout",
     "output_type": "stream",
     "text": [
      "+--------------------+--------------------+\n",
      "|            features|          prediction|\n",
      "+--------------------+--------------------+\n",
      "|(10,[0,1,2,3,4,5,...|  1.3407053527744464|\n",
      "|(10,[0,1,2,3,4,5,...|  -1.292253828654062|\n",
      "|(10,[0,1,2,3,4,5,...|-0.21482341498350732|\n",
      "|(10,[0,1,2,3,4,5,...| 0.27529940500519834|\n",
      "|(10,[0,1,2,3,4,5,...|  0.6183753593590278|\n",
      "|(10,[0,1,2,3,4,5,...| -0.7249694165312423|\n",
      "|(10,[0,1,2,3,4,5,...|  1.9846607199255222|\n",
      "|(10,[0,1,2,3,4,5,...|  -2.224710856481673|\n",
      "|(10,[0,1,2,3,4,5,...|   2.903066621032031|\n",
      "|(10,[0,1,2,3,4,5,...|  1.5539534181436165|\n",
      "|(10,[0,1,2,3,4,5,...|  1.7647900684963536|\n",
      "|(10,[0,1,2,3,4,5,...|   0.999449826693239|\n",
      "|(10,[0,1,2,3,4,5,...| -0.8549864358814567|\n",
      "|(10,[0,1,2,3,4,5,...| -1.8043022378920774|\n",
      "|(10,[0,1,2,3,4,5,...| -1.8754075818439322|\n",
      "|(10,[0,1,2,3,4,5,...|-0.23582210622192312|\n",
      "|(10,[0,1,2,3,4,5,...|  2.1608445906737175|\n",
      "|(10,[0,1,2,3,4,5,...|  -3.299899318826038|\n",
      "|(10,[0,1,2,3,4,5,...|  1.6388148161306586|\n",
      "|(10,[0,1,2,3,4,5,...|   1.914525042429354|\n",
      "+--------------------+--------------------+\n",
      "only showing top 20 rows\n",
      "\n"
     ]
    }
   ],
   "source": [
    "# Using transform function instead of evaluating function\n",
    "predictions = correct_model.transform(unlabeled_data)\n",
    "predictions.show()"
   ]
  },
  {
   "cell_type": "code",
   "execution_count": null,
   "id": "bb4060f9",
   "metadata": {},
   "outputs": [],
   "source": []
  }
 ],
 "metadata": {
  "kernelspec": {
   "display_name": "Python 3",
   "language": "python",
   "name": "python3"
  },
  "language_info": {
   "codemirror_mode": {
    "name": "ipython",
    "version": 3
   },
   "file_extension": ".py",
   "mimetype": "text/x-python",
   "name": "python",
   "nbconvert_exporter": "python",
   "pygments_lexer": "ipython3",
   "version": "3.8.8"
  }
 },
 "nbformat": 4,
 "nbformat_minor": 5
}
