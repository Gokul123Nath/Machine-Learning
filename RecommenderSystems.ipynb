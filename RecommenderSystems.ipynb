{
 "cells": [
  {
   "cell_type": "code",
   "execution_count": 1,
   "id": "897b8517",
   "metadata": {},
   "outputs": [],
   "source": [
    "from pyspark.sql import SparkSession\n",
    "spark = SparkSession.builder.appName('Rec').getOrCreate()"
   ]
  },
  {
   "cell_type": "code",
   "execution_count": 2,
   "id": "0185459c",
   "metadata": {},
   "outputs": [],
   "source": [
    "# Importing the ALS(Alternaing Least Square) model\n",
    "from pyspark.ml.recommendation import ALS\n",
    "# For evaluation using the RegressionEvaluator\n",
    "from pyspark.ml.evaluation import RegressionEvaluator"
   ]
  },
  {
   "cell_type": "code",
   "execution_count": 5,
   "id": "032d6e75",
   "metadata": {},
   "outputs": [],
   "source": [
    "# Importing data\n",
    "data = spark.read.csv('Recommender_Systems/movielens_ratings.csv' , header = True , inferSchema=True)"
   ]
  },
  {
   "cell_type": "code",
   "execution_count": 6,
   "id": "ab302972",
   "metadata": {},
   "outputs": [
    {
     "name": "stdout",
     "output_type": "stream",
     "text": [
      "+-------+------+------+\n",
      "|movieId|rating|userId|\n",
      "+-------+------+------+\n",
      "|      2|   3.0|     0|\n",
      "|      3|   1.0|     0|\n",
      "|      5|   2.0|     0|\n",
      "|      9|   4.0|     0|\n",
      "|     11|   1.0|     0|\n",
      "|     12|   2.0|     0|\n",
      "|     15|   1.0|     0|\n",
      "|     17|   1.0|     0|\n",
      "|     19|   1.0|     0|\n",
      "|     21|   1.0|     0|\n",
      "|     23|   1.0|     0|\n",
      "|     26|   3.0|     0|\n",
      "|     27|   1.0|     0|\n",
      "|     28|   1.0|     0|\n",
      "|     29|   1.0|     0|\n",
      "|     30|   1.0|     0|\n",
      "|     31|   1.0|     0|\n",
      "|     34|   1.0|     0|\n",
      "|     37|   1.0|     0|\n",
      "|     41|   2.0|     0|\n",
      "+-------+------+------+\n",
      "only showing top 20 rows\n",
      "\n"
     ]
    }
   ],
   "source": [
    "data.show()"
   ]
  },
  {
   "cell_type": "code",
   "execution_count": 7,
   "id": "e1a42350",
   "metadata": {},
   "outputs": [
    {
     "name": "stdout",
     "output_type": "stream",
     "text": [
      "+-------+------------------+------------------+------------------+\n",
      "|summary|           movieId|            rating|            userId|\n",
      "+-------+------------------+------------------+------------------+\n",
      "|  count|              1501|              1501|              1501|\n",
      "|   mean| 49.40572951365756|1.7741505662891406|14.383744170552964|\n",
      "| stddev|28.937034065088994| 1.187276166124803| 8.591040424293272|\n",
      "|    min|                 0|               1.0|                 0|\n",
      "|    max|                99|               5.0|                29|\n",
      "+-------+------------------+------------------+------------------+\n",
      "\n"
     ]
    }
   ],
   "source": [
    "# To see the data's structure\n",
    "data.describe().show()"
   ]
  },
  {
   "cell_type": "code",
   "execution_count": 8,
   "id": "7d56f9e9",
   "metadata": {},
   "outputs": [],
   "source": [
    "# Splitting data into training and test datas\n",
    "training, test = data.randomSplit([0.8,0.2])"
   ]
  },
  {
   "cell_type": "code",
   "execution_count": 13,
   "id": "b0776617",
   "metadata": {},
   "outputs": [],
   "source": [
    "# Instantiating the ALS model\n",
    "als = ALS(maxIter =5,regParam =0.01,userCol='userId',itemCol = 'movieId',ratingCol='rating')"
   ]
  },
  {
   "cell_type": "code",
   "execution_count": 14,
   "id": "889de00f",
   "metadata": {},
   "outputs": [],
   "source": [
    "# Creating model by fitting data\n",
    "model = als.fit(training)"
   ]
  },
  {
   "cell_type": "code",
   "execution_count": 15,
   "id": "691cf907",
   "metadata": {},
   "outputs": [],
   "source": [
    "# Predicting test data with the created model\n",
    "predictions= model.transform(test)"
   ]
  },
  {
   "cell_type": "code",
   "execution_count": 16,
   "id": "121cab89",
   "metadata": {},
   "outputs": [
    {
     "name": "stdout",
     "output_type": "stream",
     "text": [
      "+-------+------+------+-----------+\n",
      "|movieId|rating|userId| prediction|\n",
      "+-------+------+------+-----------+\n",
      "|      1|   1.0|     4|   1.691539|\n",
      "|      1|   1.0|    28| -0.5769483|\n",
      "|      6|   1.0|     1| 0.31742752|\n",
      "|      6|   1.0|     2| 0.35766283|\n",
      "|      6|   1.0|     6|  2.0838315|\n",
      "|      3|   3.0|    14|  1.6889961|\n",
      "|      3|   1.0|    21| 0.49606708|\n",
      "|      3|   2.0|    22|  1.0193486|\n",
      "|      3|   1.0|    29| 0.24209484|\n",
      "|      5|   2.0|    26|  2.1908846|\n",
      "|      4|   1.0|     5|-0.11032237|\n",
      "|      4|   1.0|     9|  1.6245708|\n",
      "|      4|   3.0|    10|  1.2067082|\n",
      "|      4|   1.0|    24| 0.04878077|\n",
      "|      2|   1.0|     3|  0.8183932|\n",
      "|      2|   2.0|     7|  1.4788356|\n",
      "|      2|   1.0|    17|   1.852133|\n",
      "|      2|   1.0|    23|   3.734132|\n",
      "|      2|   1.0|    25|   3.829813|\n",
      "|      0|   1.0|     3|   1.049467|\n",
      "+-------+------+------+-----------+\n",
      "only showing top 20 rows\n",
      "\n"
     ]
    }
   ],
   "source": [
    "predictions.show()"
   ]
  },
  {
   "cell_type": "code",
   "execution_count": 17,
   "id": "de9ec1b4",
   "metadata": {},
   "outputs": [],
   "source": [
    "# Creating evaluator object\n",
    "evaluator = RegressionEvaluator(metricName = 'rmse',labelCol='rating', predictionCol='prediction')"
   ]
  },
  {
   "cell_type": "code",
   "execution_count": 19,
   "id": "e02cbc18",
   "metadata": {},
   "outputs": [],
   "source": [
    "rmse = evaluator.evaluate(predictions)"
   ]
  },
  {
   "cell_type": "code",
   "execution_count": 21,
   "id": "4bf7a415",
   "metadata": {},
   "outputs": [
    {
     "name": "stdout",
     "output_type": "stream",
     "text": [
      "RMSE\n"
     ]
    },
    {
     "data": {
      "text/plain": [
       "1.8727345548009537"
      ]
     },
     "execution_count": 21,
     "metadata": {},
     "output_type": "execute_result"
    }
   ],
   "source": [
    "print(\"RMSE\")\n",
    "rmse"
   ]
  },
  {
   "cell_type": "code",
   "execution_count": 29,
   "id": "8a1c8937",
   "metadata": {},
   "outputs": [],
   "source": [
    "# Applying filter for single user\n",
    "single_user = test.filter(test['userId']==11).select(['movieId','userId'])"
   ]
  },
  {
   "cell_type": "code",
   "execution_count": 30,
   "id": "041ef769",
   "metadata": {},
   "outputs": [
    {
     "name": "stdout",
     "output_type": "stream",
     "text": [
      "+-------+------+\n",
      "|movieId|userId|\n",
      "+-------+------+\n",
      "|      6|    11|\n",
      "|     10|    11|\n",
      "|     21|    11|\n",
      "|     32|    11|\n",
      "|     35|    11|\n",
      "|     36|    11|\n",
      "|     78|    11|\n",
      "|     80|    11|\n",
      "|     81|    11|\n",
      "|     82|    11|\n",
      "|     99|    11|\n",
      "+-------+------+\n",
      "\n"
     ]
    }
   ],
   "source": [
    "single_user.show()"
   ]
  },
  {
   "cell_type": "code",
   "execution_count": 31,
   "id": "ec4d4a87",
   "metadata": {},
   "outputs": [
    {
     "name": "stdout",
     "output_type": "stream",
     "text": [
      "+-------+------+-----------+\n",
      "|movieId|userId| prediction|\n",
      "+-------+------+-----------+\n",
      "|     36|    11|  3.7239482|\n",
      "|     32|    11|  3.2374756|\n",
      "|     10|    11|   3.132456|\n",
      "|     21|    11|  2.6210525|\n",
      "|     81|    11|  1.9411128|\n",
      "|     35|    11|  1.5115551|\n",
      "|     78|    11|  0.9734031|\n",
      "|     99|    11|  0.7383608|\n",
      "|     82|    11| 0.42540535|\n",
      "|     80|    11|-0.42813414|\n",
      "|      6|    11|-0.54287213|\n",
      "+-------+------+-----------+\n",
      "\n"
     ]
    }
   ],
   "source": [
    "# Inorder to recommend for a single user\n",
    "recommendations = model.transform(single_user)\n",
    "# printing the recommendations\n",
    "recommendations.orderBy('prediction',ascending=False).show()"
   ]
  },
  {
   "cell_type": "code",
   "execution_count": null,
   "id": "0b380f0b",
   "metadata": {},
   "outputs": [],
   "source": []
  }
 ],
 "metadata": {
  "kernelspec": {
   "display_name": "Python 3",
   "language": "python",
   "name": "python3"
  },
  "language_info": {
   "codemirror_mode": {
    "name": "ipython",
    "version": 3
   },
   "file_extension": ".py",
   "mimetype": "text/x-python",
   "name": "python",
   "nbconvert_exporter": "python",
   "pygments_lexer": "ipython3",
   "version": "3.8.8"
  }
 },
 "nbformat": 4,
 "nbformat_minor": 5
}
