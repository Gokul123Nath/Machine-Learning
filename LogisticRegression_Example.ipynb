{
 "cells": [
  {
   "cell_type": "code",
   "execution_count": 1,
   "id": "a58f6d46",
   "metadata": {},
   "outputs": [],
   "source": [
    "from pyspark.sql import SparkSession\n",
    "spark = SparkSession.builder.appName('logreg').getOrCreate()"
   ]
  },
  {
   "cell_type": "code",
   "execution_count": 2,
   "id": "6d21716a",
   "metadata": {},
   "outputs": [],
   "source": [
    "# Logistics Regression is a classification and imported from ml Library\n",
    "from pyspark.ml.classification import LogisticRegression"
   ]
  },
  {
   "cell_type": "code",
   "execution_count": 3,
   "id": "e2a38031",
   "metadata": {},
   "outputs": [],
   "source": [
    "mydata = spark.read.format('libsvm').load('Logistic_Regression/sample_libsvm_data.txt')"
   ]
  },
  {
   "cell_type": "code",
   "execution_count": 4,
   "id": "a48e1933",
   "metadata": {},
   "outputs": [
    {
     "name": "stdout",
     "output_type": "stream",
     "text": [
      "+-----+--------------------+\n",
      "|label|            features|\n",
      "+-----+--------------------+\n",
      "|  0.0|(692,[127,128,129...|\n",
      "|  1.0|(692,[158,159,160...|\n",
      "|  1.0|(692,[124,125,126...|\n",
      "|  1.0|(692,[152,153,154...|\n",
      "|  1.0|(692,[151,152,153...|\n",
      "|  0.0|(692,[129,130,131...|\n",
      "|  1.0|(692,[158,159,160...|\n",
      "|  1.0|(692,[99,100,101,...|\n",
      "|  0.0|(692,[154,155,156...|\n",
      "|  0.0|(692,[127,128,129...|\n",
      "|  1.0|(692,[154,155,156...|\n",
      "|  0.0|(692,[153,154,155...|\n",
      "|  0.0|(692,[151,152,153...|\n",
      "|  1.0|(692,[129,130,131...|\n",
      "|  0.0|(692,[154,155,156...|\n",
      "|  1.0|(692,[150,151,152...|\n",
      "|  0.0|(692,[124,125,126...|\n",
      "|  0.0|(692,[152,153,154...|\n",
      "|  1.0|(692,[97,98,99,12...|\n",
      "|  1.0|(692,[124,125,126...|\n",
      "+-----+--------------------+\n",
      "only showing top 20 rows\n",
      "\n"
     ]
    }
   ],
   "source": [
    "mydata.show()"
   ]
  },
  {
   "cell_type": "code",
   "execution_count": 5,
   "id": "4ba1f8f9",
   "metadata": {},
   "outputs": [],
   "source": [
    "# Creating Logistic Regression model we don't need to specify the input col and output cols \n",
    "#(By default we have Labels and features in the data set)\n",
    "logistic_regression_model = LogisticRegression()"
   ]
  },
  {
   "cell_type": "code",
   "execution_count": 6,
   "id": "aed5691d",
   "metadata": {},
   "outputs": [],
   "source": [
    "fitted_model = logistic_regression_model.fit(mydata)"
   ]
  },
  {
   "cell_type": "code",
   "execution_count": 23,
   "id": "a097168d",
   "metadata": {},
   "outputs": [],
   "source": [
    "Summary_predictions = fitted_model.summary.predictions"
   ]
  },
  {
   "cell_type": "code",
   "execution_count": 24,
   "id": "de373f07",
   "metadata": {},
   "outputs": [
    {
     "name": "stdout",
     "output_type": "stream",
     "text": [
      "+-----+--------------------+--------------------+--------------------+----------+\n",
      "|label|            features|       rawPrediction|         probability|prediction|\n",
      "+-----+--------------------+--------------------+--------------------+----------+\n",
      "|  0.0|(692,[127,128,129...|[20.3777627514872...|[0.99999999858729...|       0.0|\n",
      "|  1.0|(692,[158,159,160...|[-21.114014198868...|[6.76550380000486...|       1.0|\n",
      "|  1.0|(692,[124,125,126...|[-23.743613234676...|[4.87842678716171...|       1.0|\n",
      "|  1.0|(692,[152,153,154...|[-19.192574012720...|[4.62137287298141...|       1.0|\n",
      "|  1.0|(692,[151,152,153...|[-20.125398874699...|[1.81823629113070...|       1.0|\n",
      "|  0.0|(692,[129,130,131...|[20.4890549504196...|[0.99999999873608...|       0.0|\n",
      "|  1.0|(692,[158,159,160...|[-21.082940212814...|[6.97903542823781...|       1.0|\n",
      "|  1.0|(692,[99,100,101,...|[-19.622713503550...|[3.00582577446123...|       1.0|\n",
      "|  0.0|(692,[154,155,156...|[21.1594863606582...|[0.99999999935352...|       0.0|\n",
      "|  0.0|(692,[127,128,129...|[28.1036706837287...|[0.99999999999937...|       0.0|\n",
      "|  1.0|(692,[154,155,156...|[-21.054076780106...|[7.18340962960319...|       1.0|\n",
      "|  0.0|(692,[153,154,155...|[26.9648490510184...|[0.99999999999805...|       0.0|\n",
      "|  0.0|(692,[151,152,153...|[32.7855654161400...|[0.99999999999999...|       0.0|\n",
      "|  1.0|(692,[129,130,131...|[-20.331839179667...|[1.47908944089725...|       1.0|\n",
      "|  0.0|(692,[154,155,156...|[21.7830579106564...|[0.99999999965347...|       0.0|\n",
      "|  1.0|(692,[150,151,152...|[-20.640562103728...|[1.08621994880355...|       1.0|\n",
      "|  0.0|(692,[124,125,126...|[22.6400775503731...|[0.99999999985292...|       0.0|\n",
      "|  0.0|(692,[152,153,154...|[38.0712919910909...|           [1.0,0.0]|       0.0|\n",
      "|  1.0|(692,[97,98,99,12...|[-19.830803265627...|[2.44113371545875...|       1.0|\n",
      "|  1.0|(692,[124,125,126...|[-21.016054806036...|[7.46179590484091...|       1.0|\n",
      "+-----+--------------------+--------------------+--------------------+----------+\n",
      "only showing top 20 rows\n",
      "\n"
     ]
    }
   ],
   "source": [
    "Summary_predictions.show()"
   ]
  },
  {
   "cell_type": "code",
   "execution_count": 25,
   "id": "f66de22c",
   "metadata": {},
   "outputs": [],
   "source": [
    "lr_train , lr_test = mydata.randomSplit([0.7,0.3])"
   ]
  },
  {
   "cell_type": "code",
   "execution_count": 26,
   "id": "1cc31b37",
   "metadata": {},
   "outputs": [],
   "source": [
    "# Creating a model to evaluate the model with training and test data\n",
    "final_model = LogisticRegression()\n",
    "fit_final = final_model.fit(lr_train)"
   ]
  },
  {
   "cell_type": "code",
   "execution_count": 27,
   "id": "da21bc3a",
   "metadata": {},
   "outputs": [],
   "source": [
    "prediction_label = fit_final.evaluate (lr_test)"
   ]
  },
  {
   "cell_type": "code",
   "execution_count": 31,
   "id": "28844056",
   "metadata": {},
   "outputs": [
    {
     "name": "stdout",
     "output_type": "stream",
     "text": [
      "+-----+--------------------+--------------------+--------------------+----------+\n",
      "|label|            features|       rawPrediction|         probability|prediction|\n",
      "+-----+--------------------+--------------------+--------------------+----------+\n",
      "|  0.0|(692,[121,122,123...|[28.9998419886105...|[0.99999999999974...|       0.0|\n",
      "|  0.0|(692,[123,124,125...|[26.0012860984714...|[0.99999999999489...|       0.0|\n",
      "|  0.0|(692,[124,125,126...|[41.0317295615441...|           [1.0,0.0]|       0.0|\n",
      "|  0.0|(692,[124,125,126...|[38.8030260826638...|           [1.0,0.0]|       0.0|\n",
      "|  0.0|(692,[124,125,126...|[40.9013722169239...|           [1.0,0.0]|       0.0|\n",
      "|  0.0|(692,[125,126,127...|[34.5655407735821...|[0.99999999999999...|       0.0|\n",
      "|  0.0|(692,[126,127,128...|[33.6439698965251...|[0.99999999999999...|       0.0|\n",
      "|  0.0|(692,[126,127,128...|[18.9508352229543...|[0.99999999411485...|       0.0|\n",
      "|  0.0|(692,[126,127,128...|[43.7027805742326...|           [1.0,0.0]|       0.0|\n",
      "|  0.0|(692,[127,128,129...|[24.3334116517600...|[0.99999999997295...|       0.0|\n",
      "|  0.0|(692,[150,151,152...|[25.6112008777719...|[0.99999999999246...|       0.0|\n",
      "|  0.0|(692,[151,152,153...|[36.0632846565656...|[0.99999999999999...|       0.0|\n",
      "|  0.0|(692,[152,153,154...|[23.4212267989372...|[0.99999999993265...|       0.0|\n",
      "|  0.0|(692,[152,153,154...|[41.3781535795417...|           [1.0,0.0]|       0.0|\n",
      "|  0.0|(692,[155,156,180...|[41.9763690651702...|           [1.0,0.0]|       0.0|\n",
      "|  1.0|(692,[97,98,99,12...|[-11.757480810616...|[7.83046516944271...|       1.0|\n",
      "|  1.0|(692,[100,101,102...|[41.4069442757663...|           [1.0,0.0]|       0.0|\n",
      "|  1.0|(692,[119,120,121...|[2.23302609921002...|[0.90317631099935...|       0.0|\n",
      "|  1.0|(692,[123,124,125...|[-20.507238364602...|[1.24113647391996...|       1.0|\n",
      "|  1.0|(692,[124,125,126...|[-15.687101587370...|[1.53878617827311...|       1.0|\n",
      "+-----+--------------------+--------------------+--------------------+----------+\n",
      "only showing top 20 rows\n",
      "\n"
     ]
    }
   ],
   "source": [
    "prediction_label.predictions.show()"
   ]
  },
  {
   "cell_type": "code",
   "execution_count": 32,
   "id": "787db9f7",
   "metadata": {},
   "outputs": [],
   "source": [
    "# Evaluating the model using imported functions\n",
    "from pyspark.ml.evaluation import BinaryClassificationEvaluator, MulticlassClassificationEvaluator"
   ]
  },
  {
   "cell_type": "code",
   "execution_count": 33,
   "id": "d152f798",
   "metadata": {},
   "outputs": [],
   "source": [
    "my_eval = BinaryClassificationEvaluator()"
   ]
  },
  {
   "cell_type": "code",
   "execution_count": 34,
   "id": "75bcea43",
   "metadata": {},
   "outputs": [
    {
     "name": "stderr",
     "output_type": "stream",
     "text": [
      "C:\\Users\\gokulnath.kandasamy\\Anaconda3\\lib\\site-packages\\pyspark\\sql\\context.py:125: FutureWarning: Deprecated in 3.0.0. Use SparkSession.builder.getOrCreate() instead.\n",
      "  warnings.warn(\n"
     ]
    }
   ],
   "source": [
    "my_final_roc = my_eval.evaluate(prediction_label.predictions)"
   ]
  },
  {
   "cell_type": "code",
   "execution_count": 35,
   "id": "39caa90b",
   "metadata": {},
   "outputs": [
    {
     "data": {
      "text/plain": [
       "0.9587301587301588"
      ]
     },
     "execution_count": 35,
     "metadata": {},
     "output_type": "execute_result"
    }
   ],
   "source": [
    "my_final_roc"
   ]
  },
  {
   "cell_type": "code",
   "execution_count": null,
   "id": "e1f621dd",
   "metadata": {},
   "outputs": [],
   "source": []
  }
 ],
 "metadata": {
  "kernelspec": {
   "display_name": "Python 3",
   "language": "python",
   "name": "python3"
  },
  "language_info": {
   "codemirror_mode": {
    "name": "ipython",
    "version": 3
   },
   "file_extension": ".py",
   "mimetype": "text/x-python",
   "name": "python",
   "nbconvert_exporter": "python",
   "pygments_lexer": "ipython3",
   "version": "3.8.8"
  }
 },
 "nbformat": 4,
 "nbformat_minor": 5
}
